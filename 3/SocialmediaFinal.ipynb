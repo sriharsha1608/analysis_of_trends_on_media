{
 "cells": [
  {
   "cell_type": "code",
   "execution_count": 1,
   "id": "a06b3414",
   "metadata": {},
   "outputs": [],
   "source": [
    "import pandas as pd"
   ]
  },
  {
   "cell_type": "code",
   "execution_count": 2,
   "id": "54e7f538",
   "metadata": {},
   "outputs": [],
   "source": [
    "twitter = pd.read_csv(\"twitter.csv\", header = None,names=['id','title','author_id','new_created','users'])"
   ]
  },
  {
   "cell_type": "code",
   "execution_count": 3,
   "id": "ea6dcc65",
   "metadata": {},
   "outputs": [],
   "source": [
    "twitter['new_created'] = pd.to_datetime(twitter['new_created'])"
   ]
  },
  {
   "cell_type": "code",
   "execution_count": 5,
   "id": "d37e92e2",
   "metadata": {},
   "outputs": [],
   "source": [
    "twitter['collected_on'] = twitter['new_created'].dt.date"
   ]
  },
  {
   "cell_type": "code",
   "execution_count": 6,
   "id": "1549cd31",
   "metadata": {},
   "outputs": [
    {
     "data": {
      "text/html": [
       "<div>\n",
       "<style scoped>\n",
       "    .dataframe tbody tr th:only-of-type {\n",
       "        vertical-align: middle;\n",
       "    }\n",
       "\n",
       "    .dataframe tbody tr th {\n",
       "        vertical-align: top;\n",
       "    }\n",
       "\n",
       "    .dataframe thead th {\n",
       "        text-align: right;\n",
       "    }\n",
       "</style>\n",
       "<table border=\"1\" class=\"dataframe\">\n",
       "  <thead>\n",
       "    <tr style=\"text-align: right;\">\n",
       "      <th></th>\n",
       "      <th>id</th>\n",
       "      <th>title</th>\n",
       "      <th>author_id</th>\n",
       "      <th>new_created</th>\n",
       "      <th>users</th>\n",
       "      <th>collected_on</th>\n",
       "    </tr>\n",
       "  </thead>\n",
       "  <tbody>\n",
       "    <tr>\n",
       "      <th>0</th>\n",
       "      <td>1589423569410236416</td>\n",
       "      <td>RT @estella_dawn: @TRBOX33 @TRBOX33 Nawww, tha...</td>\n",
       "      <td>136314158</td>\n",
       "      <td>2022-11-07 01:04:43</td>\n",
       "      <td>[{\"created_at\": \"2010-04-23T15:45:59.000Z\", \"i...</td>\n",
       "      <td>2022-11-07</td>\n",
       "    </tr>\n",
       "    <tr>\n",
       "      <th>1</th>\n",
       "      <td>1589423573592309760</td>\n",
       "      <td>RT @hsxsvgolden: @HarryTo100 Novi\\n\\nI’m votin...</td>\n",
       "      <td>1498075959928438784</td>\n",
       "      <td>2022-11-07 01:04:44</td>\n",
       "      <td>[{\"created_at\": \"2022-02-27T23:22:07.000Z\", \"i...</td>\n",
       "      <td>2022-11-07</td>\n",
       "    </tr>\n",
       "    <tr>\n",
       "      <th>2</th>\n",
       "      <td>1589423569393811456</td>\n",
       "      <td>#목소리_들어보고싶으면_마음_들어봤으면_인용후기 \\n해줘 https://t.co/S...</td>\n",
       "      <td>1516331761608761345</td>\n",
       "      <td>2022-11-07 01:04:43</td>\n",
       "      <td>[{\"created_at\": \"2022-04-19T08:24:14.000Z\", \"i...</td>\n",
       "      <td>2022-11-07</td>\n",
       "    </tr>\n",
       "    <tr>\n",
       "      <th>3</th>\n",
       "      <td>1589423569406431234</td>\n",
       "      <td>やっと錬金できた！早く大魔導師になれるようにレベリング頑張ります！\\n#ドラクエ\\n#ドラゴ...</td>\n",
       "      <td>1584508214166847488</td>\n",
       "      <td>2022-11-07 01:04:43</td>\n",
       "      <td>[{\"created_at\": \"2022-10-24T11:33:07.000Z\", \"i...</td>\n",
       "      <td>2022-11-07</td>\n",
       "    </tr>\n",
       "    <tr>\n",
       "      <th>4</th>\n",
       "      <td>1589423569385435138</td>\n",
       "      <td>RT @Rconstantino: 👇 https://t.co/WO7qS4kdxE</td>\n",
       "      <td>56362089</td>\n",
       "      <td>2022-11-07 01:04:43</td>\n",
       "      <td>[{\"created_at\": \"2009-07-13T12:42:37.000Z\", \"i...</td>\n",
       "      <td>2022-11-07</td>\n",
       "    </tr>\n",
       "  </tbody>\n",
       "</table>\n",
       "</div>"
      ],
      "text/plain": [
       "                    id                                              title  \\\n",
       "0  1589423569410236416  RT @estella_dawn: @TRBOX33 @TRBOX33 Nawww, tha...   \n",
       "1  1589423573592309760  RT @hsxsvgolden: @HarryTo100 Novi\\n\\nI’m votin...   \n",
       "2  1589423569393811456  #목소리_들어보고싶으면_마음_들어봤으면_인용후기 \\n해줘 https://t.co/S...   \n",
       "3  1589423569406431234  やっと錬金できた！早く大魔導師になれるようにレベリング頑張ります！\\n#ドラクエ\\n#ドラゴ...   \n",
       "4  1589423569385435138        RT @Rconstantino: 👇 https://t.co/WO7qS4kdxE   \n",
       "\n",
       "             author_id         new_created  \\\n",
       "0            136314158 2022-11-07 01:04:43   \n",
       "1  1498075959928438784 2022-11-07 01:04:44   \n",
       "2  1516331761608761345 2022-11-07 01:04:43   \n",
       "3  1584508214166847488 2022-11-07 01:04:43   \n",
       "4             56362089 2022-11-07 01:04:43   \n",
       "\n",
       "                                               users collected_on  \n",
       "0  [{\"created_at\": \"2010-04-23T15:45:59.000Z\", \"i...   2022-11-07  \n",
       "1  [{\"created_at\": \"2022-02-27T23:22:07.000Z\", \"i...   2022-11-07  \n",
       "2  [{\"created_at\": \"2022-04-19T08:24:14.000Z\", \"i...   2022-11-07  \n",
       "3  [{\"created_at\": \"2022-10-24T11:33:07.000Z\", \"i...   2022-11-07  \n",
       "4  [{\"created_at\": \"2009-07-13T12:42:37.000Z\", \"i...   2022-11-07  "
      ]
     },
     "execution_count": 6,
     "metadata": {},
     "output_type": "execute_result"
    }
   ],
   "source": [
    "twitter.head()"
   ]
  },
  {
   "cell_type": "code",
   "execution_count": 7,
   "id": "44ec2506",
   "metadata": {},
   "outputs": [],
   "source": [
    "reddit = pd.read_csv(\"reddit_db.csv\")"
   ]
  },
  {
   "cell_type": "code",
   "execution_count": 8,
   "id": "10129e31",
   "metadata": {},
   "outputs": [],
   "source": [
    "reddit.drop(labels=['Unnamed: 0.1','Unnamed: 0'],axis=1,inplace=True)"
   ]
  },
  {
   "cell_type": "code",
   "execution_count": 9,
   "id": "a55cf121",
   "metadata": {},
   "outputs": [],
   "source": [
    "reddit['new_created'] = pd.to_datetime(reddit['new_created'])"
   ]
  },
  {
   "cell_type": "code",
   "execution_count": 10,
   "id": "83e08056",
   "metadata": {},
   "outputs": [],
   "source": [
    "reddit['collected_on'] = reddit['new_created'].dt.date"
   ]
  },
  {
   "cell_type": "code",
   "execution_count": 11,
   "id": "2422963b",
   "metadata": {},
   "outputs": [
    {
     "data": {
      "text/html": [
       "<div>\n",
       "<style scoped>\n",
       "    .dataframe tbody tr th:only-of-type {\n",
       "        vertical-align: middle;\n",
       "    }\n",
       "\n",
       "    .dataframe tbody tr th {\n",
       "        vertical-align: top;\n",
       "    }\n",
       "\n",
       "    .dataframe thead th {\n",
       "        text-align: right;\n",
       "    }\n",
       "</style>\n",
       "<table border=\"1\" class=\"dataframe\">\n",
       "  <thead>\n",
       "    <tr style=\"text-align: right;\">\n",
       "      <th></th>\n",
       "      <th>title</th>\n",
       "      <th>score</th>\n",
       "      <th>id</th>\n",
       "      <th>subreddit</th>\n",
       "      <th>url</th>\n",
       "      <th>num_comments</th>\n",
       "      <th>created</th>\n",
       "      <th>new_created</th>\n",
       "      <th>collected_on</th>\n",
       "    </tr>\n",
       "  </thead>\n",
       "  <tbody>\n",
       "    <tr>\n",
       "      <th>0</th>\n",
       "      <td>Europe prepares to rewrite the rules of the In...</td>\n",
       "      <td>1</td>\n",
       "      <td>yhgadn</td>\n",
       "      <td>technology</td>\n",
       "      <td>https://arstechnica.com/tech-policy/2022/10/eu...</td>\n",
       "      <td>0</td>\n",
       "      <td>1.667142e+09</td>\n",
       "      <td>2022-10-30 10:56:16</td>\n",
       "      <td>2022-10-30</td>\n",
       "    </tr>\n",
       "    <tr>\n",
       "      <th>1</th>\n",
       "      <td>Joe Rogan praises Elon Musk for wanting to bri...</td>\n",
       "      <td>1</td>\n",
       "      <td>yhg5l6</td>\n",
       "      <td>technology</td>\n",
       "      <td>https://www.businessinsider.com/joe-rogan-musk...</td>\n",
       "      <td>0</td>\n",
       "      <td>1.667141e+09</td>\n",
       "      <td>2022-10-30 10:50:30</td>\n",
       "      <td>2022-10-30</td>\n",
       "    </tr>\n",
       "    <tr>\n",
       "      <th>2</th>\n",
       "      <td>Check Out My Last Post To Get 15 Free Stocks 🤑🤠</td>\n",
       "      <td>1</td>\n",
       "      <td>yhfyjb</td>\n",
       "      <td>technology</td>\n",
       "      <td>/r/Freestockss/comments/yhfv74/check_out_my_la...</td>\n",
       "      <td>1</td>\n",
       "      <td>1.667141e+09</td>\n",
       "      <td>2022-10-30 10:41:49</td>\n",
       "      <td>2022-10-30</td>\n",
       "    </tr>\n",
       "    <tr>\n",
       "      <th>3</th>\n",
       "      <td>Don't miss the chance to get your free stocks!...</td>\n",
       "      <td>1</td>\n",
       "      <td>yhfhce</td>\n",
       "      <td>technology</td>\n",
       "      <td>https://a.webull.com/FvOtef4yjep7LrfFVk</td>\n",
       "      <td>1</td>\n",
       "      <td>1.667140e+09</td>\n",
       "      <td>2022-10-30 10:21:14</td>\n",
       "      <td>2022-10-30</td>\n",
       "    </tr>\n",
       "    <tr>\n",
       "      <th>4</th>\n",
       "      <td>Metapol - the World's First Global Web3 Cyber ...</td>\n",
       "      <td>1</td>\n",
       "      <td>yhfbyp</td>\n",
       "      <td>technology</td>\n",
       "      <td>https://metapol.army/contests/</td>\n",
       "      <td>0</td>\n",
       "      <td>1.667139e+09</td>\n",
       "      <td>2022-10-30 10:14:34</td>\n",
       "      <td>2022-10-30</td>\n",
       "    </tr>\n",
       "  </tbody>\n",
       "</table>\n",
       "</div>"
      ],
      "text/plain": [
       "                                               title  score      id  \\\n",
       "0  Europe prepares to rewrite the rules of the In...      1  yhgadn   \n",
       "1  Joe Rogan praises Elon Musk for wanting to bri...      1  yhg5l6   \n",
       "2    Check Out My Last Post To Get 15 Free Stocks 🤑🤠      1  yhfyjb   \n",
       "3  Don't miss the chance to get your free stocks!...      1  yhfhce   \n",
       "4  Metapol - the World's First Global Web3 Cyber ...      1  yhfbyp   \n",
       "\n",
       "    subreddit                                                url  \\\n",
       "0  technology  https://arstechnica.com/tech-policy/2022/10/eu...   \n",
       "1  technology  https://www.businessinsider.com/joe-rogan-musk...   \n",
       "2  technology  /r/Freestockss/comments/yhfv74/check_out_my_la...   \n",
       "3  technology            https://a.webull.com/FvOtef4yjep7LrfFVk   \n",
       "4  technology                     https://metapol.army/contests/   \n",
       "\n",
       "   num_comments       created         new_created collected_on  \n",
       "0             0  1.667142e+09 2022-10-30 10:56:16   2022-10-30  \n",
       "1             0  1.667141e+09 2022-10-30 10:50:30   2022-10-30  \n",
       "2             1  1.667141e+09 2022-10-30 10:41:49   2022-10-30  \n",
       "3             1  1.667140e+09 2022-10-30 10:21:14   2022-10-30  \n",
       "4             0  1.667139e+09 2022-10-30 10:14:34   2022-10-30  "
      ]
     },
     "execution_count": 11,
     "metadata": {},
     "output_type": "execute_result"
    }
   ],
   "source": [
    "reddit.head()"
   ]
  },
  {
   "cell_type": "code",
   "execution_count": 12,
   "id": "42d47e28",
   "metadata": {},
   "outputs": [],
   "source": [
    "hacker_news = pd.read_csv(\"hn_data.csv\", header = None,names=['id','by','descendants','score','time','title','url'])"
   ]
  },
  {
   "cell_type": "code",
   "execution_count": 13,
   "id": "d1daad6d",
   "metadata": {},
   "outputs": [],
   "source": [
    "from datetime import datetime\n",
    "hacker_news['new_created']=hacker_news['time'].map(lambda x: str(datetime.fromtimestamp(x)))"
   ]
  },
  {
   "cell_type": "code",
   "execution_count": 14,
   "id": "49f4c5e8",
   "metadata": {},
   "outputs": [],
   "source": [
    "hacker_news['new_created'] = pd.to_datetime(hacker_news['new_created'])"
   ]
  },
  {
   "cell_type": "code",
   "execution_count": 15,
   "id": "a52886cb",
   "metadata": {},
   "outputs": [],
   "source": [
    "hacker_news['collected_on'] = hacker_news['new_created'].dt.date"
   ]
  },
  {
   "cell_type": "code",
   "execution_count": 16,
   "id": "09c260f2",
   "metadata": {},
   "outputs": [
    {
     "data": {
      "text/html": [
       "<div>\n",
       "<style scoped>\n",
       "    .dataframe tbody tr th:only-of-type {\n",
       "        vertical-align: middle;\n",
       "    }\n",
       "\n",
       "    .dataframe tbody tr th {\n",
       "        vertical-align: top;\n",
       "    }\n",
       "\n",
       "    .dataframe thead th {\n",
       "        text-align: right;\n",
       "    }\n",
       "</style>\n",
       "<table border=\"1\" class=\"dataframe\">\n",
       "  <thead>\n",
       "    <tr style=\"text-align: right;\">\n",
       "      <th></th>\n",
       "      <th>id</th>\n",
       "      <th>by</th>\n",
       "      <th>descendants</th>\n",
       "      <th>score</th>\n",
       "      <th>time</th>\n",
       "      <th>title</th>\n",
       "      <th>url</th>\n",
       "      <th>new_created</th>\n",
       "      <th>collected_on</th>\n",
       "    </tr>\n",
       "  </thead>\n",
       "  <tbody>\n",
       "    <tr>\n",
       "      <th>0</th>\n",
       "      <td>33490883</td>\n",
       "      <td>zhengiszen</td>\n",
       "      <td>0</td>\n",
       "      <td>1</td>\n",
       "      <td>1667728272</td>\n",
       "      <td>GitHub – kelleyma49/PSFzf: A PowerShell wrappe...</td>\n",
       "      <td>https://github.com/kelleyma49/PSFzf</td>\n",
       "      <td>2022-11-06 04:51:12</td>\n",
       "      <td>2022-11-06</td>\n",
       "    </tr>\n",
       "    <tr>\n",
       "      <th>1</th>\n",
       "      <td>33490897</td>\n",
       "      <td>corentin88</td>\n",
       "      <td>0</td>\n",
       "      <td>3</td>\n",
       "      <td>1667728447</td>\n",
       "      <td>Why did Google remove the “I'm Feeling Lucky” ...</td>\n",
       "      <td>https://www.quora.com/Why-did-Google-remove-th...</td>\n",
       "      <td>2022-11-06 04:54:07</td>\n",
       "      <td>2022-11-06</td>\n",
       "    </tr>\n",
       "    <tr>\n",
       "      <th>2</th>\n",
       "      <td>33490948</td>\n",
       "      <td>zeristor</td>\n",
       "      <td>1</td>\n",
       "      <td>2</td>\n",
       "      <td>1667728948</td>\n",
       "      <td>Asterank</td>\n",
       "      <td>http://www.asterank.com/</td>\n",
       "      <td>2022-11-06 05:02:28</td>\n",
       "      <td>2022-11-06</td>\n",
       "    </tr>\n",
       "    <tr>\n",
       "      <th>3</th>\n",
       "      <td>33490956</td>\n",
       "      <td>l-m-z</td>\n",
       "      <td>0</td>\n",
       "      <td>1</td>\n",
       "      <td>1667729045</td>\n",
       "      <td>An OCaml port of min-DALLE</td>\n",
       "      <td>https://github.com/ArulselvanMadhavan/mini_dalle</td>\n",
       "      <td>2022-11-06 05:04:05</td>\n",
       "      <td>2022-11-06</td>\n",
       "    </tr>\n",
       "    <tr>\n",
       "      <th>4</th>\n",
       "      <td>33491056</td>\n",
       "      <td>homarp</td>\n",
       "      <td>0</td>\n",
       "      <td>1</td>\n",
       "      <td>1667729865</td>\n",
       "      <td>Being Glue</td>\n",
       "      <td>https://noidea.dog/glue</td>\n",
       "      <td>2022-11-06 05:17:45</td>\n",
       "      <td>2022-11-06</td>\n",
       "    </tr>\n",
       "  </tbody>\n",
       "</table>\n",
       "</div>"
      ],
      "text/plain": [
       "         id          by  descendants  score        time  \\\n",
       "0  33490883  zhengiszen            0      1  1667728272   \n",
       "1  33490897  corentin88            0      3  1667728447   \n",
       "2  33490948    zeristor            1      2  1667728948   \n",
       "3  33490956       l-m-z            0      1  1667729045   \n",
       "4  33491056      homarp            0      1  1667729865   \n",
       "\n",
       "                                               title  \\\n",
       "0  GitHub – kelleyma49/PSFzf: A PowerShell wrappe...   \n",
       "1  Why did Google remove the “I'm Feeling Lucky” ...   \n",
       "2                                           Asterank   \n",
       "3                         An OCaml port of min-DALLE   \n",
       "4                                         Being Glue   \n",
       "\n",
       "                                                 url         new_created  \\\n",
       "0                https://github.com/kelleyma49/PSFzf 2022-11-06 04:51:12   \n",
       "1  https://www.quora.com/Why-did-Google-remove-th... 2022-11-06 04:54:07   \n",
       "2                           http://www.asterank.com/ 2022-11-06 05:02:28   \n",
       "3   https://github.com/ArulselvanMadhavan/mini_dalle 2022-11-06 05:04:05   \n",
       "4                            https://noidea.dog/glue 2022-11-06 05:17:45   \n",
       "\n",
       "  collected_on  \n",
       "0   2022-11-06  \n",
       "1   2022-11-06  \n",
       "2   2022-11-06  \n",
       "3   2022-11-06  \n",
       "4   2022-11-06  "
      ]
     },
     "execution_count": 16,
     "metadata": {},
     "output_type": "execute_result"
    }
   ],
   "source": [
    "hacker_news.head()"
   ]
  },
  {
   "cell_type": "code",
   "execution_count": 17,
   "id": "f146b0a0",
   "metadata": {},
   "outputs": [],
   "source": [
    "hacker_news['platform']='Hacker News'\n",
    "reddit['platform']='Reddit'\n",
    "twitter['platform']='Twitter'"
   ]
  },
  {
   "cell_type": "code",
   "execution_count": 18,
   "id": "de3b7301",
   "metadata": {},
   "outputs": [],
   "source": [
    "DB_df=pd.concat([reddit, twitter,hacker_news])"
   ]
  },
  {
   "cell_type": "code",
   "execution_count": 19,
   "id": "e58d51b9",
   "metadata": {},
   "outputs": [],
   "source": [
    "DB_df['collected_date']=pd.to_datetime(DB_df['new_created'], format='%Y-%m-%d')"
   ]
  },
  {
   "cell_type": "code",
   "execution_count": 21,
   "id": "d82bbff8",
   "metadata": {},
   "outputs": [],
   "source": [
    "import matplotlib.pyplot as pl"
   ]
  },
  {
   "cell_type": "code",
   "execution_count": 22,
   "id": "505976eb",
   "metadata": {},
   "outputs": [
    {
     "data": {
      "image/png": "[encoded data removed]",
      "text/plain": [
       "<Figure size 1100x500 with 1 Axes>"
      ]
     },
     "metadata": {},
     "output_type": "display_data"
    }
   ],
   "source": [
    "pl.figure(figsize=(11, 5))\n",
    "reddit['collected_on'].value_counts().plot()\n",
    "\n",
    "pl.xlabel('Reddit Timeline')\n",
    "pl.ylabel('Counts')\n",
    "\n",
    "pl.show()"
   ]
  },
  {
   "cell_type": "code",
   "execution_count": 23,
   "id": "10fa6c66",
   "metadata": {},
   "outputs": [
    {
     "data": {
      "image/png": "[encoded data removed]",
      "text/plain": [
       "<Figure size 1200x500 with 1 Axes>"
      ]
     },
     "metadata": {},
     "output_type": "display_data"
    }
   ],
   "source": [
    "pl.figure(figsize=(12, 5))\n",
    "hacker_news['collected_on'].value_counts().plot()\n",
    "\n",
    "pl.xlabel('Hacker News Timeline')\n",
    "pl.ylabel('Counts')\n",
    "\n",
    "pl.show()"
   ]
  },
  {
   "cell_type": "code",
   "execution_count": 24,
   "id": "94fa365b",
   "metadata": {},
   "outputs": [
    {
     "data": {
      "image/png": "[encoded data removed]",
      "text/plain": [
       "<Figure size 1200x500 with 1 Axes>"
      ]
     },
     "metadata": {},
     "output_type": "display_data"
    }
   ],
   "source": [
    "pl.figure(figsize=(12, 5))\n",
    "twitter['collected_on'].value_counts().plot()\n",
    "\n",
    "pl.xlabel('Twitter Timeline')\n",
    "pl.ylabel('Counts')\n",
    "\n",
    "pl.show()"
   ]
  },
  {
   "cell_type": "code",
   "execution_count": 25,
   "id": "843ca662",
   "metadata": {},
   "outputs": [],
   "source": [
    "from vaderSentiment.vaderSentiment import SentimentIntensityAnalyzer\n",
    "sentiment_lib = SentimentIntensityAnalyzer()"
   ]
  },
  {
   "cell_type": "code",
   "execution_count": 26,
   "id": "118e50d5",
   "metadata": {},
   "outputs": [],
   "source": [
    "def get_score(x):\n",
    "    try:\n",
    "        val = sentiment_lib.polarity_scores(x)['compound']\n",
    "    except:\n",
    "        val = None\n",
    "    return val"
   ]
  },
  {
   "cell_type": "code",
   "execution_count": 27,
   "id": "0509b23c",
   "metadata": {},
   "outputs": [],
   "source": [
    "def get_class(x):\n",
    "    if x==0:\n",
    "        return 'Neutral'\n",
    "    elif x<0:\n",
    "        return 'Negative'\n",
    "    else:\n",
    "        return 'Positive'"
   ]
  },
  {
   "cell_type": "code",
   "execution_count": 28,
   "id": "f480c83b",
   "metadata": {},
   "outputs": [],
   "source": [
    "DB_df['sentiment_analysis_score'] = DB_df['title'].apply(lambda x:get_score(str(x)))"
   ]
  },
  {
   "cell_type": "code",
   "execution_count": 29,
   "id": "a41f61bb",
   "metadata": {},
   "outputs": [],
   "source": [
    "DB_df[\"class\"] = DB_df['sentiment_analysis_score'].apply(lambda x: get_class(x))"
   ]
  },
  {
   "cell_type": "code",
   "execution_count": 30,
   "id": "02e59e41",
   "metadata": {},
   "outputs": [],
   "source": [
    "import plotly.express as px\n",
    "import plotly.io as pio\n",
    "pio.renderers.default = \"browser\"\n",
    "\n",
    "import dash\n",
    "from dash.dependencies import Input, Output\n",
    "from dash import html,dcc\n",
    "import dash_bootstrap_components as dbc"
   ]
  },
  {
   "cell_type": "code",
   "execution_count": 31,
   "id": "eb1506cf",
   "metadata": {},
   "outputs": [],
   "source": [
    "postive_score=len(DB_df[DB_df['class']=='Positive'])*100/len(DB_df)\n",
    "negative_score=len(DB_df[DB_df['class']=='Negative'])*100/len(DB_df)\n",
    "neutral_score=len(DB_df[DB_df['class']=='Neutral'])*100/len(DB_df)"
   ]
  },
  {
   "cell_type": "code",
   "execution_count": 32,
   "id": "f9eb046d",
   "metadata": {},
   "outputs": [
    {
     "name": "stderr",
     "output_type": "stream",
     "text": [
      "[nltk_data] Downloading package stopwords to\n",
      "[nltk_data]     /Users/sriharsha/nltk_data...\n",
      "[nltk_data]   Package stopwords is already up-to-date!\n",
      "[nltk_data] Downloading package wordnet to\n",
      "[nltk_data]     /Users/sriharsha/nltk_data...\n",
      "[nltk_data]   Package wordnet is already up-to-date!\n",
      "[nltk_data] Downloading package omw-1.4 to\n",
      "[nltk_data]     /Users/sriharsha/nltk_data...\n",
      "[nltk_data]   Package omw-1.4 is already up-to-date!\n"
     ]
    }
   ],
   "source": [
    "import re\n",
    "import nltk\n",
    "\n",
    "nltk.download('stopwords')\n",
    "nltk.download('wordnet')\n",
    "nltk.download('omw-1.4')\n",
    "\n",
    "from nltk.corpus import stopwords\n",
    "from nltk.stem.porter import PorterStemmer\n",
    "from nltk.tokenize import RegexpTokenizer\n",
    "from nltk.stem.wordnet import WordNetLemmatizer\n",
    "from sklearn.feature_extraction.text import CountVectorizer\n",
    "import re\n",
    "stop_words = set(stopwords.words(\"english\"))\n",
    "\n"
   ]
  },
  {
   "cell_type": "code",
   "execution_count": 87,
   "id": "6ea5f56b",
   "metadata": {},
   "outputs": [],
   "source": [
    "from PIL import Image\n",
    "from wordcloud import WordCloud, STOPWORDS, ImageColorGenerator"
   ]
  },
  {
   "cell_type": "code",
   "execution_count": 127,
   "id": "fe4ced2a",
   "metadata": {},
   "outputs": [],
   "source": [
    "def get_corpus(df):\n",
    "    corpus = []\n",
    "    df['word_count'] = df['title'].apply(lambda x: len(str(x).split(\" \")))\n",
    "    ds_count = len(df.word_count)\n",
    "    for i in range(0, ds_count):\n",
    "        try:\n",
    "            # Remove punctuation\n",
    "            text = re.sub('[^a-zA-Z]', ' ', str(df['title'][i]))\n",
    "\n",
    "            # Convert to lowercase\n",
    "            text = text.lower()\n",
    "\n",
    "            # Remove tags\n",
    "            text=re.sub(\"</?.*?>\",\" <> \",text)\n",
    "\n",
    "            # Remove special characters and digits\n",
    "            text=re.sub(\"(\\\\d|\\\\W)+\",\" \",text)\n",
    "\n",
    "            # Convert to list from string\n",
    "            text = text.split()\n",
    "\n",
    "            # Stemming\n",
    "            ps=PorterStemmer()\n",
    "\n",
    "            # Lemmatisation\n",
    "            lem = WordNetLemmatizer()\n",
    "            text = [lem.lemmatize(word) for word in text if not word in  \n",
    "                    stop_words] \n",
    "            text = \" \".join(text)\n",
    "        except:\n",
    "            text=''\n",
    "        corpus.append(text)\n",
    "    return corpus"
   ]
  },
  {
   "cell_type": "code",
   "execution_count": 107,
   "id": "34cef752",
   "metadata": {},
   "outputs": [],
   "source": [
    "import datetime\n",
    "value1='2022-10-29'\n",
    "value2='2022-12-5'\n",
    "start_date = datetime.date(int(value1.split('-')[0]),int(value1.split('-')[1]),int(value1.split('-')[2]))\n",
    "end_date = datetime.date(int(value2.split('-')[0]),int(value2.split('-')[1]),int(value2.split('-')[2]))"
   ]
  },
  {
   "cell_type": "code",
   "execution_count": 211,
   "id": "6138471f",
   "metadata": {},
   "outputs": [],
   "source": [
    "def get_plat_total(plat='Reddit',cltype='Neutral',st_date=start_date,ed_date=end_date,df_t=DB_df):\n",
    "    if plat == 'All':\n",
    "        c=len(df_t)\n",
    "        return len(df_t.loc[ df_t['class']== cltype])*100/c\n",
    "    else:\n",
    "        df_t = df_t.loc[df_t['platform']==plat]\n",
    "        c=len(df_t)\n",
    "        return len(df_t.loc[ df_t['class']== cltype])*100/c"
   ]
  },
  {
   "cell_type": "code",
   "execution_count": 212,
   "id": "a3938953",
   "metadata": {},
   "outputs": [],
   "source": [
    "def fig_world_trend(plat='Reddit',st_date=start_date,ed_date=end_date,df_t=DB_df):\n",
    "\n",
    "    df1=df_t[df_t['platform']==plat]\n",
    "    df_grouped = (\n",
    "        df1.groupby(\n",
    "            df1['collected_on']\n",
    "        )['platform'].count().rename('Count').to_frame()\n",
    "    )\n",
    "\n",
    "    fig = px.line(\n",
    "        df_grouped, y='Count', title='Daily collected posts trend for {}'.format(plat),height=600,color_discrete_sequence =['maroon'],hover_data=['Count']\n",
    "    )\n",
    "    fig.update_layout(title_x=0.5,plot_bgcolor='#F2DFCE',paper_bgcolor='#F2DFCE',xaxis_title=\"Date\",yaxis_title='count')\n",
    "    return fig\n"
   ]
  },
  {
   "cell_type": "code",
   "execution_count": 213,
   "id": "b771e96f",
   "metadata": {},
   "outputs": [],
   "source": [
    "def get_wordcloud_fig(plat='Reddit',st_date=start_date,ed_date=end_date,df_t=DB_df):\n",
    "    corp_df = df_t.loc[df_t['platform']==plat]\n",
    "    corpus=get_corpus(corp_df)\n",
    "    wordcloud = WordCloud(\n",
    "                              background_color='white',\n",
    "                              stopwords=stop_words,\n",
    "                              max_words=100,\n",
    "                              max_font_size=50, \n",
    "                              random_state=42\n",
    "                             ).generate(str(corpus))\n",
    "    \n",
    "    fig= px.imshow(wordcloud,title='word cloud for {}'.format(plat))\n",
    "    fig.update_yaxes(visible=False, showticklabels=False)\n",
    "    fig.update_xaxes(visible=False, showticklabels=False)\n",
    "    fig.update_layout(title_x=0.5,plot_bgcolor='#F2DFCE',paper_bgcolor='#F2DFCE')\n",
    "    return fig"
   ]
  },
  {
   "cell_type": "code",
   "execution_count": 214,
   "id": "985d593a",
   "metadata": {},
   "outputs": [],
   "source": [
    "def get_top_n_words(corpus, n=None):\n",
    "    vec = CountVectorizer().fit(corpus)\n",
    "    bag_of_words = vec.transform(corpus)\n",
    "    sum_words = bag_of_words.sum(axis=0) \n",
    "    words_freq = [(word, sum_words[0, idx]) for word, idx in      \n",
    "                   vec.vocabulary_.items()]\n",
    "    words_freq =sorted(words_freq, key = lambda x: x[1], \n",
    "                       reverse=True)\n",
    "    return words_freq[:n]\n",
    "\n",
    "def plot_top_words(plat='Reddit',st_date=start_date,ed_date=end_date,df_t=DB_df):\n",
    "    corp_df = df_t[df_t['platform']==plat]\n",
    "    corpus=get_corpus(corp_df)\n",
    "    top_words = get_top_n_words(corpus, n=20)\n",
    "    top_df = pd.DataFrame(top_words)\n",
    "    top_df.columns=[\"Keyword\", \"Frequency\"]\n",
    "\n",
    "    fig = px.bar(top_df,x='Keyword', y='Frequency', title='Top terms in trend for {}'.format(plat))\n",
    "    fig.update_layout(title_x=0.5,xaxis_title='Words',yaxis_title='count',plot_bgcolor='#F2DFCE',paper_bgcolor='#F2DFCE')\n",
    "    fig.update_xaxes(tickangle=45)\n",
    "    return fig"
   ]
  },
  {
   "cell_type": "code",
   "execution_count": 229,
   "id": "461980f9",
   "metadata": {},
   "outputs": [],
   "source": [
    "external_stylesheets = [dbc.themes.BOOTSTRAP]"
   ]
  },
  {
   "cell_type": "code",
   "execution_count": 230,
   "id": "66abb88f",
   "metadata": {},
   "outputs": [],
   "source": [
    "app = dash.Dash(__name__, external_stylesheets=external_stylesheets)\n",
    "app.title = 'Anlaysis of trends'"
   ]
  },
  {
   "cell_type": "code",
   "execution_count": 231,
   "id": "36278a5e",
   "metadata": {},
   "outputs": [],
   "source": [
    "colors = {\n",
    "    'background': '#111111',\n",
    "    'bodyColor':'#F2DFCE',\n",
    "    'text': '#7FDBFF'\n",
    "}\n",
    "def get_page_heading_style():\n",
    "    return {'backgroundColor': colors['background']}\n",
    "\n",
    "\n",
    "def get_page_heading_title():\n",
    "    return html.H1(children='Anlaysis of trends',\n",
    "                                        style={\n",
    "                                        'textAlign': 'center',\n",
    "                                        'color': colors['text']\n",
    "                                    })\n",
    "\n",
    "def get_page_heading_subtitle():\n",
    "    return html.Div(children='Visualize Anlaysis of trends data generated from sources Twitter, Reddit and Hacker News.',\n",
    "                                         style={\n",
    "                                             'textAlign':'center',\n",
    "                                             'color':colors['text']\n",
    "                                         })\n",
    "\n",
    "def generate_page_header():\n",
    "    main_header =  dbc.Row(\n",
    "                            [\n",
    "                                dbc.Col(get_page_heading_title(),md=12)\n",
    "                            ],\n",
    "                            align=\"center\",\n",
    "                            style=get_page_heading_style()\n",
    "                        )\n",
    "    subtitle_header = dbc.Row(\n",
    "                            [\n",
    "                                dbc.Col(get_page_heading_subtitle(),md=12)\n",
    "                            ],\n",
    "                            align=\"center\",\n",
    "                            style=get_page_heading_style()\n",
    "                        )\n",
    "    header = (main_header,subtitle_header)\n",
    "    return header"
   ]
  },
  {
   "cell_type": "code",
   "execution_count": 232,
   "id": "662244cd",
   "metadata": {},
   "outputs": [],
   "source": [
    "def get_plat_list():\n",
    "    f=DB_df['platform'].unique()\n",
    "#     f.append('All')\n",
    "    return f\n",
    "\n",
    "def create_dropdown_list(plat_list):\n",
    "    dropdown_list = []\n",
    "    for plat in sorted(plat_list):\n",
    "        tmp_dict = {'label':plat,'value':plat}\n",
    "        dropdown_list.append(tmp_dict)\n",
    "    return dropdown_list\n",
    "\n",
    "def get_plat_dropdown(id):\n",
    "    return html.Div([\n",
    "                        html.Label('Select Platform'),\n",
    "                        dcc.Dropdown(id='my-id'+str(id),\n",
    "                            options=create_dropdown_list(get_plat_list()),\n",
    "                            value='Reddit'\n",
    "                        ),\n",
    "                        html.Div(id='my-div'+str(id))\n",
    "                    ])"
   ]
  },
  {
   "cell_type": "code",
   "execution_count": 233,
   "id": "f7abc362",
   "metadata": {},
   "outputs": [],
   "source": [
    "from datetime import datetime as dt\n",
    "\n",
    "def get_dates():\n",
    "    return html.Div([\n",
    "        dcc.DatePickerRange(\n",
    "            id='my-date-picker-range',  # ID to be used for callback\n",
    "            calendar_orientation='horizontal',  # vertical or horizontal\n",
    "            day_size=39,  # size of calendar image. Default is 39\n",
    "            end_date_placeholder_text=\"Return\",  # text that appears when no end date chosen\n",
    "            with_portal=False,  # if True calendar will open in a full screen overlay portal\n",
    "            first_day_of_week=0,  # Display of calendar when open (0 = Sunday)\n",
    "            reopen_calendar_on_clear=True,\n",
    "            is_RTL=False,  # True or False for direction of calendar\n",
    "            clearable=True,  # whether or not the user can clear the dropdown\n",
    "            number_of_months_shown=1,  # number of months shown when calendar is open\n",
    "            min_date_allowed=dt(2022, 10, 29),  # minimum date allowed on the DatePickerRange component\n",
    "            max_date_allowed=dt(2022, 12, 5),  # maximum date allowed on the DatePickerRange component\n",
    "            initial_visible_month=dt(2022, 10, 1),  # the month initially presented when the user opens the calendar\n",
    "            start_date=dt(2022, 10, 29).date(),\n",
    "            end_date=dt(2022, 12, 5).date(),\n",
    "            display_format='MMM Do, YY',  # how selected dates are displayed in the DatePickerRange component.\n",
    "            month_format='MMMM, YYYY',  # how calendar headers are displayed when the calendar is opened.\n",
    "\n",
    "            persistence=True,\n",
    "            persisted_props=['start_date'],\n",
    "            persistence_type='session',  # session, local, or memory. Default is 'local'\n",
    "\n",
    "            updatemode='singledate'  # singledate or bothdates. Determines when callback is triggered\n",
    "        )\n",
    "    ])"
   ]
  },
  {
   "cell_type": "code",
   "execution_count": 234,
   "id": "d1da869e",
   "metadata": {},
   "outputs": [],
   "source": [
    "def graph1():\n",
    "    return dcc.Graph(id='graph1',figure=fig_world_trend(plat='Reddit'))"
   ]
  },
  {
   "cell_type": "code",
   "execution_count": 235,
   "id": "971f38da",
   "metadata": {},
   "outputs": [],
   "source": [
    "def graph2():\n",
    "    return dcc.Graph(id='graph2',figure=get_wordcloud_fig(plat='Reddit'))"
   ]
  },
  {
   "cell_type": "code",
   "execution_count": 236,
   "id": "e013a835",
   "metadata": {},
   "outputs": [],
   "source": [
    "def graph3():\n",
    "    return dcc.Graph(id='graph3',figure=plot_top_words(plat='Reddit'))"
   ]
  },
  {
   "cell_type": "code",
   "execution_count": 237,
   "id": "5c9c1a29",
   "metadata": {},
   "outputs": [],
   "source": [
    "def generate_card_content(card_header,card_value,overall_value):\n",
    "    card_head_style = {'textAlign':'center','fontSize':'150%'}\n",
    "    card_body_style = {'textAlign':'center','fontSize':'200%'}\n",
    "    card_header = dbc.CardHeader(card_header,style=card_head_style)\n",
    "    card_body = dbc.CardBody(\n",
    "        [\n",
    "            html.H5(f\"{int(card_value):,}\", className=\"card-title\",style=card_body_style),\n",
    "            html.P(\n",
    "                \"Across all Platform: {:,}\".format(overall_value),\n",
    "                className=\"card-text\",style={'textAlign':'center'}\n",
    "            ),\n",
    "        ]\n",
    "    )\n",
    "    card = [card_header,card_body]\n",
    "    return card"
   ]
  },
  {
   "cell_type": "code",
   "execution_count": 238,
   "id": "d8267a72",
   "metadata": {},
   "outputs": [],
   "source": [
    "def generate_cards(plat='Reddit',st_date=start_date,ed_date=end_date,df_t=DB_df):\n",
    "    net_plat_total = get_plat_total(plat,'Neutral',st_date,ed_date,df_t)\n",
    "    neg_plat_total = get_plat_total(plat,'Negative',st_date,ed_date,df_t)\n",
    "    pos_plat_total = get_plat_total(plat,'Positive',st_date,ed_date,df_t)\n",
    "    cards = html.Div(\n",
    "        [\n",
    "            dbc.Row(\n",
    "                [\n",
    "                    dbc.Col(dbc.Card(generate_card_content(\"Positive\",pos_plat_total,postive_score), color=\"success\", inverse=True),md=dict(size=2,offset=3)),\n",
    "                    dbc.Col(dbc.Card(generate_card_content(\"Neutral\",net_plat_total,neutral_score), color=\"warning\", inverse=True),md=dict(size=2)),\n",
    "                    dbc.Col(dbc.Card(generate_card_content(\"Negative\",neg_plat_total,negative_score),color=\"dark\", inverse=True),md=dict(size=2)),\n",
    "                ],\n",
    "                className=\"mb-4\",\n",
    "            ),\n",
    "        ],id='card1'\n",
    "    )\n",
    "    return cards"
   ]
  },
  {
   "cell_type": "code",
   "execution_count": 239,
   "id": "ef34b111",
   "metadata": {},
   "outputs": [],
   "source": [
    "\n",
    "def generate_layout():\n",
    "    page_header = generate_page_header()\n",
    "    layout = dbc.Container(\n",
    "        [\n",
    "            page_header[0],\n",
    "            page_header[1],\n",
    "            html.Hr(),\n",
    "            generate_cards(),\n",
    "            html.Hr(),\n",
    "            dbc.Row(\n",
    "                [\n",
    "                    dbc.Col(get_dates(),md=dict(size=4,offset=4))                    \n",
    "                ]\n",
    "            ),\n",
    "            dbc.Row(\n",
    "                [\n",
    "                    dbc.Col(get_plat_dropdown(id=1),md=dict(size=4,offset=4))                    \n",
    "                ]\n",
    "            ),\n",
    "            dbc.Row(\n",
    "                [                \n",
    "                    dbc.Col(graph1(),md=dict(size=6,offset=3))\n",
    "                ],\n",
    "                align=\"center\",\n",
    "\n",
    "            ),\n",
    "            dbc.Row(\n",
    "                [                \n",
    "                    dbc.Col(graph2(),md=dict(size=6,offset=3))\n",
    "                ],\n",
    "                align=\"center\",\n",
    "\n",
    "            ),\n",
    "            dbc.Row(\n",
    "                [                \n",
    "                    dbc.Col(graph3(),md=dict(size=6,offset=3))\n",
    "                ],\n",
    "                align=\"center\",\n",
    "\n",
    "            ),\n",
    "        ],fluid=True,style={'backgroundColor': colors['bodyColor']}\n",
    "    )\n",
    "    return layout\n"
   ]
  },
  {
   "cell_type": "code",
   "execution_count": 240,
   "id": "376123a6",
   "metadata": {},
   "outputs": [
    {
     "name": "stderr",
     "output_type": "stream",
     "text": [
      "/var/folders/bz/c11d48jx64jdqdm5ntzmyt100000gn/T/ipykernel_14614/3463299306.py:3: SettingWithCopyWarning:\n",
      "\n",
      "\n",
      "A value is trying to be set on a copy of a slice from a DataFrame.\n",
      "Try using .loc[row_indexer,col_indexer] = value instead\n",
      "\n",
      "See the caveats in the documentation: https://pandas.pydata.org/pandas-docs/stable/user_guide/indexing.html#returning-a-view-versus-a-copy\n",
      "\n",
      "/var/folders/bz/c11d48jx64jdqdm5ntzmyt100000gn/T/ipykernel_14614/3463299306.py:3: SettingWithCopyWarning:\n",
      "\n",
      "\n",
      "A value is trying to be set on a copy of a slice from a DataFrame.\n",
      "Try using .loc[row_indexer,col_indexer] = value instead\n",
      "\n",
      "See the caveats in the documentation: https://pandas.pydata.org/pandas-docs/stable/user_guide/indexing.html#returning-a-view-versus-a-copy\n",
      "\n"
     ]
    }
   ],
   "source": [
    "app.layout = generate_layout()"
   ]
  },
  {
   "cell_type": "code",
   "execution_count": 241,
   "id": "73efddec",
   "metadata": {},
   "outputs": [],
   "source": [
    "@app.callback(\n",
    "    [Output(component_id='graph1',component_property='figure'), #line chart\n",
    "     Output(component_id='graph2',component_property='figure'),\n",
    "     Output(component_id='graph3',component_property='figure'),\n",
    "    Output(component_id='card1',component_property='children')], #overall card numbers\n",
    "    [Input(component_id='my-id1',component_property='value'),\n",
    "    Input(component_id='my-date-picker-range', component_property='start_date'),\n",
    "    Input(component_id='my-date-picker-range', component_property='end_date')] #dropdown\n",
    ")\n",
    "def update_output_div(input_value1,input_value2,input_value3):\n",
    "    s_d=DB_df.loc[(DB_df['collected_date'] >= input_value2) & (DB_df['collected_date'] < input_value3) & (DB_df['platform'] == input_value1)]\n",
    "    print('btw',len(s_d))\n",
    "    return fig_world_trend(input_value1,input_value2,input_value3,s_d),get_wordcloud_fig(input_value1,input_value2,input_value3,s_d),plot_top_words(input_value1,input_value2,input_value3,s_d),generate_cards(input_value1,input_value2,input_value3,s_d)"
   ]
  },
  {
   "cell_type": "code",
   "execution_count": 242,
   "id": "efd2c419",
   "metadata": {},
   "outputs": [
    {
     "name": "stdout",
     "output_type": "stream",
     "text": [
      "Dash is running on http://0.0.0.0:8050/\n",
      "\n",
      "Dash is running on http://0.0.0.0:8050/\n",
      "\n",
      "Dash is running on http://0.0.0.0:8050/\n",
      "\n",
      "Dash is running on http://0.0.0.0:8050/\n",
      "\n",
      "Dash is running on http://0.0.0.0:8050/\n",
      "\n",
      "Dash is running on http://0.0.0.0:8050/\n",
      "\n",
      "Dash is running on http://0.0.0.0:8050/\n",
      "\n",
      "Dash is running on http://0.0.0.0:8050/\n",
      "\n",
      "Dash is running on http://0.0.0.0:8050/\n",
      "\n",
      "Dash is running on http://0.0.0.0:8050/\n",
      "\n",
      "Dash is running on http://0.0.0.0:8050/\n",
      "\n",
      "Dash is running on http://0.0.0.0:8050/\n",
      "\n",
      "Dash is running on http://0.0.0.0:8050/\n",
      "\n",
      " * Serving Flask app \"__main__\" (lazy loading)\n",
      " * Environment: production\n",
      "\u001b[31m   WARNING: This is a development server. Do not use it in a production deployment.\u001b[0m\n",
      "\u001b[2m   Use a production WSGI server instead.\u001b[0m\n",
      " * Debug mode: off\n"
     ]
    },
    {
     "name": "stderr",
     "output_type": "stream",
     "text": [
      " * Running on all addresses.\n",
      "   WARNING: This is a development server. Do not use it in a production deployment.\n",
      " * Running on http://192.168.1.122:8050/ (Press CTRL+C to quit)\n",
      "192.168.1.122 - - [13/Dec/2022 11:18:35] \"GET / HTTP/1.1\" 200 -\n",
      "192.168.1.122 - - [13/Dec/2022 11:18:35] \"GET /_dash-component-suites/dash/dcc/async-dropdown.js HTTP/1.1\" 304 -\n",
      "192.168.1.122 - - [13/Dec/2022 11:18:35] \"GET /_dash-component-suites/dash/dcc/async-graph.js HTTP/1.1\" 304 -\n",
      "192.168.1.122 - - [13/Dec/2022 11:18:35] \"GET /_dash-component-suites/dash/dcc/async-datepicker.js HTTP/1.1\" 304 -\n",
      "192.168.1.122 - - [13/Dec/2022 11:18:35] \"GET /_dash-component-suites/dash/dcc/async-plotlyjs.js HTTP/1.1\" 304 -\n",
      "192.168.1.122 - - [13/Dec/2022 11:18:35] \"GET /_dash-layout HTTP/1.1\" 200 -\n",
      "192.168.1.122 - - [13/Dec/2022 11:18:35] \"GET /_dash-dependencies HTTP/1.1\" 200 -\n",
      "192.168.1.122 - - [13/Dec/2022 11:18:35] \"GET /_dash-component-suites/dash/dcc/async-graph.js HTTP/1.1\" 304 -\n",
      "192.168.1.122 - - [13/Dec/2022 11:18:35] \"GET /_dash-component-suites/dash/dcc/async-dropdown.js HTTP/1.1\" 304 -\n",
      "192.168.1.122 - - [13/Dec/2022 11:18:35] \"GET /_dash-component-suites/dash/dcc/async-datepicker.js HTTP/1.1\" 304 -\n",
      "192.168.1.122 - - [13/Dec/2022 11:18:35] \"GET /_dash-component-suites/dash/dcc/async-plotlyjs.js HTTP/1.1\" 304 -\n"
     ]
    },
    {
     "name": "stdout",
     "output_type": "stream",
     "text": [
      "btw 5329\n"
     ]
    },
    {
     "name": "stderr",
     "output_type": "stream",
     "text": [
      "192.168.1.122 - - [13/Dec/2022 11:18:37] \"POST /_dash-update-component HTTP/1.1\" 200 -\n"
     ]
    },
    {
     "name": "stdout",
     "output_type": "stream",
     "text": [
      "btw 37012845\n"
     ]
    },
    {
     "name": "stderr",
     "output_type": "stream",
     "text": [
      "192.168.1.122 - - [13/Dec/2022 12:13:24] \"GET / HTTP/1.1\" 200 -\n"
     ]
    }
   ],
   "source": [
    "app.run_server(host= '0.0.0.0',debug=False)"
   ]
  },
  {
   "cell_type": "code",
   "execution_count": null,
   "id": "5b0899e7",
   "metadata": {},
   "outputs": [],
   "source": []
  }
 ],
 "metadata": {
  "kernelspec": {
   "display_name": "Python 3 (ipykernel)",
   "language": "python",
   "name": "python3"
  },
  "language_info": {
   "codemirror_mode": {
    "name": "ipython",
    "version": 3
   },
   "file_extension": ".py",
   "mimetype": "text/x-python",
   "name": "python",
   "nbconvert_exporter": "python",
   "pygments_lexer": "ipython3",
   "version": "3.9.15"
  }
 },
 "nbformat": 4,
 "nbformat_minor": 5
}
